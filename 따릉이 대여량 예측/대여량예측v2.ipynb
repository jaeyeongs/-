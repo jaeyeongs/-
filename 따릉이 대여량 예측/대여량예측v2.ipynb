{
 "cells": [
  {
   "cell_type": "markdown",
   "id": "d62cf0be",
   "metadata": {},
   "source": [
    "## 따릉이 대여량 예측 경진대회(DACON)"
   ]
  },
  {
   "cell_type": "markdown",
   "id": "21c8f80c",
   "metadata": {},
   "source": [
    "### 데이터 불러오기"
   ]
  },
  {
   "cell_type": "code",
   "execution_count": 1,
   "id": "49807e28",
   "metadata": {},
   "outputs": [
    {
     "data": {
      "text/html": [
       "<div>\n",
       "<style scoped>\n",
       "    .dataframe tbody tr th:only-of-type {\n",
       "        vertical-align: middle;\n",
       "    }\n",
       "\n",
       "    .dataframe tbody tr th {\n",
       "        vertical-align: top;\n",
       "    }\n",
       "\n",
       "    .dataframe thead th {\n",
       "        text-align: right;\n",
       "    }\n",
       "</style>\n",
       "<table border=\"1\" class=\"dataframe\">\n",
       "  <thead>\n",
       "    <tr style=\"text-align: right;\">\n",
       "      <th></th>\n",
       "      <th>date_time</th>\n",
       "      <th>wind_direction</th>\n",
       "      <th>sky_condition</th>\n",
       "      <th>precipitation_form</th>\n",
       "      <th>wind_speed</th>\n",
       "      <th>humidity</th>\n",
       "      <th>low_temp</th>\n",
       "      <th>high_temp</th>\n",
       "      <th>Precipitation_Probability</th>\n",
       "      <th>number_of_rentals</th>\n",
       "    </tr>\n",
       "  </thead>\n",
       "  <tbody>\n",
       "    <tr>\n",
       "      <th>0</th>\n",
       "      <td>2018-04-01</td>\n",
       "      <td>207.500</td>\n",
       "      <td>4.000</td>\n",
       "      <td>0.000</td>\n",
       "      <td>3.050</td>\n",
       "      <td>75.000</td>\n",
       "      <td>12.600</td>\n",
       "      <td>21.000</td>\n",
       "      <td>30.000</td>\n",
       "      <td>22994</td>\n",
       "    </tr>\n",
       "    <tr>\n",
       "      <th>1</th>\n",
       "      <td>2018-04-02</td>\n",
       "      <td>208.317</td>\n",
       "      <td>2.950</td>\n",
       "      <td>0.000</td>\n",
       "      <td>3.278</td>\n",
       "      <td>69.833</td>\n",
       "      <td>12.812</td>\n",
       "      <td>19.000</td>\n",
       "      <td>19.500</td>\n",
       "      <td>28139</td>\n",
       "    </tr>\n",
       "    <tr>\n",
       "      <th>2</th>\n",
       "      <td>2018-04-03</td>\n",
       "      <td>213.516</td>\n",
       "      <td>2.911</td>\n",
       "      <td>0.000</td>\n",
       "      <td>2.690</td>\n",
       "      <td>74.879</td>\n",
       "      <td>10.312</td>\n",
       "      <td>15.316</td>\n",
       "      <td>19.113</td>\n",
       "      <td>26817</td>\n",
       "    </tr>\n",
       "    <tr>\n",
       "      <th>3</th>\n",
       "      <td>2018-04-04</td>\n",
       "      <td>143.836</td>\n",
       "      <td>3.692</td>\n",
       "      <td>0.425</td>\n",
       "      <td>3.138</td>\n",
       "      <td>71.849</td>\n",
       "      <td>8.312</td>\n",
       "      <td>12.368</td>\n",
       "      <td>43.493</td>\n",
       "      <td>26034</td>\n",
       "    </tr>\n",
       "    <tr>\n",
       "      <th>4</th>\n",
       "      <td>2018-04-05</td>\n",
       "      <td>95.905</td>\n",
       "      <td>4.000</td>\n",
       "      <td>0.723</td>\n",
       "      <td>3.186</td>\n",
       "      <td>73.784</td>\n",
       "      <td>5.875</td>\n",
       "      <td>10.421</td>\n",
       "      <td>63.378</td>\n",
       "      <td>2833</td>\n",
       "    </tr>\n",
       "  </tbody>\n",
       "</table>\n",
       "</div>"
      ],
      "text/plain": [
       "    date_time  wind_direction  sky_condition  precipitation_form  wind_speed  \\\n",
       "0  2018-04-01         207.500          4.000               0.000       3.050   \n",
       "1  2018-04-02         208.317          2.950               0.000       3.278   \n",
       "2  2018-04-03         213.516          2.911               0.000       2.690   \n",
       "3  2018-04-04         143.836          3.692               0.425       3.138   \n",
       "4  2018-04-05          95.905          4.000               0.723       3.186   \n",
       "\n",
       "   humidity  low_temp  high_temp  Precipitation_Probability  number_of_rentals  \n",
       "0    75.000    12.600     21.000                     30.000              22994  \n",
       "1    69.833    12.812     19.000                     19.500              28139  \n",
       "2    74.879    10.312     15.316                     19.113              26817  \n",
       "3    71.849     8.312     12.368                     43.493              26034  \n",
       "4    73.784     5.875     10.421                     63.378               2833  "
      ]
     },
     "execution_count": 1,
     "metadata": {},
     "output_type": "execute_result"
    }
   ],
   "source": [
    "import pandas as pd\n",
    "import numpy as np\n",
    "\n",
    "import warnings\n",
    "warnings.filterwarnings(\"ignore\")\n",
    "\n",
    "train = pd.read_csv('train.csv')\n",
    "test = pd.read_csv('test.csv')\n",
    "sample_submission = pd.read_csv('sample_submission.csv')\n",
    "train.head()"
   ]
  },
  {
   "cell_type": "markdown",
   "id": "527de730",
   "metadata": {},
   "source": [
    "### 변수 탐색"
   ]
  },
  {
   "cell_type": "code",
   "execution_count": 2,
   "id": "a43a216b",
   "metadata": {},
   "outputs": [
    {
     "name": "stdout",
     "output_type": "stream",
     "text": [
      "<class 'pandas.core.frame.DataFrame'>\n",
      "RangeIndex: 273 entries, 0 to 272\n",
      "Data columns (total 10 columns):\n",
      " #   Column                     Non-Null Count  Dtype  \n",
      "---  ------                     --------------  -----  \n",
      " 0   date_time                  273 non-null    object \n",
      " 1   wind_direction             273 non-null    float64\n",
      " 2   sky_condition              273 non-null    float64\n",
      " 3   precipitation_form         273 non-null    float64\n",
      " 4   wind_speed                 273 non-null    float64\n",
      " 5   humidity                   273 non-null    float64\n",
      " 6   low_temp                   273 non-null    float64\n",
      " 7   high_temp                  273 non-null    float64\n",
      " 8   Precipitation_Probability  273 non-null    float64\n",
      " 9   number_of_rentals          273 non-null    int64  \n",
      "dtypes: float64(8), int64(1), object(1)\n",
      "memory usage: 21.5+ KB\n"
     ]
    }
   ],
   "source": [
    "train.info()"
   ]
  },
  {
   "cell_type": "code",
   "execution_count": 3,
   "id": "dd54e20b",
   "metadata": {},
   "outputs": [
    {
     "data": {
      "image/png": "[encoded data removed]",
      "text/plain": [
       "<Figure size 576x432 with 1 Axes>"
      ]
     },
     "metadata": {
      "needs_background": "light"
     },
     "output_type": "display_data"
    }
   ],
   "source": [
    "# 이상치 확인\n",
    "\n",
    "import matplotlib.pyplot as plt\n",
    "\n",
    "plt.figure(figsize=(8,6))\n",
    "plt.scatter(range(train.shape[0]), np.sort(train['number_of_rentals'].values))\n",
    "plt.show()"
   ]
  },
  {
   "cell_type": "code",
   "execution_count": 4,
   "id": "e3a37f13",
   "metadata": {},
   "outputs": [],
   "source": [
    "# date_time 날짜 변수를 datetime으로 바꾸기 -> 년/월/일 추출\n",
    "\n",
    "train['date_time'] = pd.to_datetime(train['date_time'])\n",
    "test['date_time'] = pd.to_datetime(test['date_time'])\n",
    "\n",
    "train['day']=pd.DatetimeIndex(train['date_time']).day\n",
    "test['day']=pd.DatetimeIndex(test['date_time']).day\n",
    "train['month']=pd.DatetimeIndex(train['date_time']).month\n",
    "test['month']=pd.DatetimeIndex(test['date_time']).month\n",
    "train['year']=pd.DatetimeIndex(train['date_time']).year\n",
    "test['year']=pd.DatetimeIndex(test['date_time']).year\n",
    "train['weekday']=pd.DatetimeIndex(train['date_time']).weekday\n",
    "test['weekday']=pd.DatetimeIndex(test['date_time']).weekday"
   ]
  },
  {
   "cell_type": "code",
   "execution_count": 5,
   "id": "214b5264",
   "metadata": {},
   "outputs": [
    {
     "data": {
      "text/plain": [
       "321.622"
      ]
     },
     "execution_count": 5,
     "metadata": {},
     "output_type": "execute_result"
    },
    {
     "data": {
      "image/png": "[encoded data removed]",
      "text/plain": [
       "<Figure size 432x288 with 1 Axes>"
      ]
     },
     "metadata": {
      "needs_background": "light"
     },
     "output_type": "display_data"
    }
   ],
   "source": [
    "# wind_direction 풍향 변수 확인\n",
    "# 풍향은 자전거 대여에 유의미한 변수가 아니라고 판단\n",
    "\n",
    "train['wind_direction'].hist()\n",
    "train['wind_direction'].max()"
   ]
  },
  {
   "cell_type": "code",
   "execution_count": 6,
   "id": "85ac84e8",
   "metadata": {},
   "outputs": [
    {
     "data": {
      "text/plain": [
       "0.9106089542607185"
      ]
     },
     "execution_count": 6,
     "metadata": {},
     "output_type": "execute_result"
    }
   ],
   "source": [
    "# 비가 오는 상황을 예측하는 두 변수 precipitation_form와 Precipitation_Probability간 상관관계는 높음\n",
    "train['precipitation_form'].corr(train['Precipitation_Probability'])"
   ]
  },
  {
   "cell_type": "code",
   "execution_count": 7,
   "id": "43cca602",
   "metadata": {},
   "outputs": [
    {
     "data": {
      "text/plain": [
       "0.6738137525457336"
      ]
     },
     "execution_count": 7,
     "metadata": {},
     "output_type": "execute_result"
    }
   ],
   "source": [
    "# 일일 강우 단기예측 기록인 precipitation_form 변수가 하루 비가 오는 날을 더 잘 표현\n",
    "# 비슷한 부분을 설명하는 두 변수이기 때문에 precipitation_form 변수만 사용\n",
    "train['precipitation_form'].corr(train['sky_condition'])"
   ]
  },
  {
   "cell_type": "code",
   "execution_count": 8,
   "id": "89139bf5",
   "metadata": {},
   "outputs": [
    {
     "data": {
      "text/plain": [
       "<BarContainer object of 91 artists>"
      ]
     },
     "execution_count": 8,
     "metadata": {},
     "output_type": "execute_result"
    },
    {
     "data": {
      "image/png": "[encoded data removed]",
      "text/plain": [
       "<Figure size 432x288 with 1 Axes>"
      ]
     },
     "metadata": {
      "needs_background": "light"
     },
     "output_type": "display_data"
    }
   ],
   "source": [
    "import matplotlib.pyplot as plt\n",
    "\n",
    "plt.bar(train['date_time'][train['year'] == 2018], train['number_of_rentals'][train['year'] == 2018], width=0.6, color='grey')"
   ]
  },
  {
   "cell_type": "code",
   "execution_count": 9,
   "id": "eb4aa96d",
   "metadata": {},
   "outputs": [],
   "source": [
    "# 따릉이 대여량을 2018년 기준으로 날짜순으로 확인\n",
    "# (5월 2일 => 32일, 6월 10일 => 30일 + 31일 + 10일 = 71일)\n",
    "\n",
    "\n",
    "train['day'][train['month'] == 5] += 30\n",
    "train['day'][train['month'] == 6] += 61\n",
    "\n",
    "test['day'][test['month'] == 5] += 30\n",
    "test['day'][test['month'] == 6] += 61"
   ]
  },
  {
   "cell_type": "code",
   "execution_count": 10,
   "id": "dd0f565f",
   "metadata": {},
   "outputs": [
    {
     "data": {
      "image/png": "[encoded data removed]",
      "text/plain": [
       "<Figure size 432x288 with 1 Axes>"
      ]
     },
     "metadata": {
      "needs_background": "light"
     },
     "output_type": "display_data"
    }
   ],
   "source": [
    "# 연도별 따릉이 이용자수\n",
    "# 시간이 지날수록 이용자수가 증가하는 것을 보아 연도 변수는 매우 중요\n",
    "\n",
    "import seaborn as sns\n",
    "\n",
    "def barplots(variable):\n",
    "    plot = train.groupby(variable)['number_of_rentals'].mean()\n",
    "    sns.barplot(plot.index,plot.values)\n",
    "barplots('year')"
   ]
  },
  {
   "cell_type": "code",
   "execution_count": 11,
   "id": "4669ef72",
   "metadata": {},
   "outputs": [
    {
     "data": {
      "image/png": "[encoded data removed]",
      "text/plain": [
       "<Figure size 432x288 with 1 Axes>"
      ]
     },
     "metadata": {
      "needs_background": "light"
     },
     "output_type": "display_data"
    }
   ],
   "source": [
    "# 요일별 이용자수\n",
    "# 0은 월요일, 6은 일요일을 나타내는 요일 변수\n",
    "barplots('weekday')"
   ]
  },
  {
   "cell_type": "code",
   "execution_count": 12,
   "id": "e85f1186",
   "metadata": {},
   "outputs": [],
   "source": [
    "# 유의미하지 않는 변수 제거\n",
    "\n",
    "train_label = train['number_of_rentals']\n",
    "train.drop(['date_time','wind_direction', 'Precipitation_Probability', 'month', 'number_of_rentals'], axis = 1, inplace= True)\n",
    "test.drop(['date_time','wind_direction', 'Precipitation_Probability', 'month'], axis = 1, inplace= True)"
   ]
  },
  {
   "cell_type": "markdown",
   "id": "dc4c446b",
   "metadata": {},
   "source": [
    "### 모델 적합"
   ]
  },
  {
   "cell_type": "code",
   "execution_count": 14,
   "id": "e01f9b06",
   "metadata": {},
   "outputs": [],
   "source": [
    "# 랜덤포레스트 모델 사용\n",
    "\n",
    "from sklearn.ensemble import RandomForestRegressor\n",
    "\n",
    "rf = RandomForestRegressor(random_state = 0, n_estimators = 100)\n",
    "rf.fit(train,train_label)\n",
    "sample_submission['number_of_rentals'] = rf.predict(test)\n",
    "sample_submission.to_csv('bicycle_final_4.csv',encoding='UTF-8',index=False)"
   ]
  }
 ],
 "metadata": {
  "kernelspec": {
   "display_name": "Python 3",
   "language": "python",
   "name": "python3"
  },
  "language_info": {
   "codemirror_mode": {
    "name": "ipython",
    "version": 3
   },
   "file_extension": ".py",
   "mimetype": "text/x-python",
   "name": "python",
   "nbconvert_exporter": "python",
   "pygments_lexer": "ipython3",
   "version": "3.8.8"
  }
 },
 "nbformat": 4,
 "nbformat_minor": 5
}
